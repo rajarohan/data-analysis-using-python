{
  "nbformat": 4,
  "nbformat_minor": 0,
  "metadata": {
    "colab": {
      "provenance": []
    },
    "kernelspec": {
      "name": "python3",
      "display_name": "Python 3"
    },
    "language_info": {
      "name": "python"
    }
  },
  "cells": [
    {
      "cell_type": "code",
      "execution_count": null,
      "metadata": {
        "colab": {
          "base_uri": "https://localhost:8080/"
        },
        "id": "VklPnce8Nv-k",
        "outputId": "aaf3f591-65d1-498c-d673-4dc7084e0e7f"
      },
      "outputs": [
        {
          "output_type": "stream",
          "name": "stdout",
          "text": [
            "Downloading from https://www.kaggle.com/api/v1/datasets/download/awaiskaggler/insurance-csv?dataset_version_number=1...\n"
          ]
        },
        {
          "output_type": "stream",
          "name": "stderr",
          "text": [
            "100%|██████████| 13.4k/13.4k [00:00<00:00, 17.9MB/s]"
          ]
        },
        {
          "output_type": "stream",
          "name": "stdout",
          "text": [
            "Extracting files...\n",
            "Path to dataset files: /root/.cache/kagglehub/datasets/awaiskaggler/insurance-csv/versions/1\n"
          ]
        },
        {
          "output_type": "stream",
          "name": "stderr",
          "text": [
            "\n"
          ]
        }
      ],
      "source": [
        "import kagglehub\n",
        "\n",
        "# Download latest version\n",
        "path = kagglehub.dataset_download(\"awaiskaggler/insurance-csv\")\n",
        "\n",
        "print(\"Path to dataset files:\", path)"
      ]
    },
    {
      "cell_type": "code",
      "source": [
        "ls /root/.cache/kagglehub/datasets/awaiskaggler/insurance-csv/versions/1\n"
      ],
      "metadata": {
        "colab": {
          "base_uri": "https://localhost:8080/"
        },
        "id": "404x5rZMN2Mw",
        "outputId": "b6007cce-9222-4b01-d106-ffefc4614824"
      },
      "execution_count": null,
      "outputs": [
        {
          "output_type": "stream",
          "name": "stdout",
          "text": [
            "insurance.csv\n"
          ]
        }
      ]
    },
    {
      "cell_type": "code",
      "source": [
        "import pandas as pd\n",
        "\n",
        "df = pd.read_csv('/root/.cache/kagglehub/datasets/awaiskaggler/insurance-csv/versions/1/insurance.csv')\n",
        "\n",
        "df.head()"
      ],
      "metadata": {
        "colab": {
          "base_uri": "https://localhost:8080/",
          "height": 206
        },
        "id": "bjhsAlUCN-Ty",
        "outputId": "2f5197f2-468c-4af0-8fa7-1d16f3e3bb50"
      },
      "execution_count": null,
      "outputs": [
        {
          "output_type": "execute_result",
          "data": {
            "text/plain": [
              "   age     sex   bmi  children smoker     region  expenses\n",
              "0   19  female  27.9         0    yes  southwest  16884.92\n",
              "1   18    male  33.8         1     no  southeast   1725.55\n",
              "2   28    male  33.0         3     no  southeast   4449.46\n",
              "3   33    male  22.7         0     no  northwest  21984.47\n",
              "4   32    male  28.9         0     no  northwest   3866.86"
            ],
            "text/html": [
              "\n",
              "  <div id=\"df-36bdbadc-38fa-4f59-95e3-bd75156dc5cd\" class=\"colab-df-container\">\n",
              "    <div>\n",
              "<style scoped>\n",
              "    .dataframe tbody tr th:only-of-type {\n",
              "        vertical-align: middle;\n",
              "    }\n",
              "\n",
              "    .dataframe tbody tr th {\n",
              "        vertical-align: top;\n",
              "    }\n",
              "\n",
              "    .dataframe thead th {\n",
              "        text-align: right;\n",
              "    }\n",
              "</style>\n",
              "<table border=\"1\" class=\"dataframe\">\n",
              "  <thead>\n",
              "    <tr style=\"text-align: right;\">\n",
              "      <th></th>\n",
              "      <th>age</th>\n",
              "      <th>sex</th>\n",
              "      <th>bmi</th>\n",
              "      <th>children</th>\n",
              "      <th>smoker</th>\n",
              "      <th>region</th>\n",
              "      <th>expenses</th>\n",
              "    </tr>\n",
              "  </thead>\n",
              "  <tbody>\n",
              "    <tr>\n",
              "      <th>0</th>\n",
              "      <td>19</td>\n",
              "      <td>female</td>\n",
              "      <td>27.9</td>\n",
              "      <td>0</td>\n",
              "      <td>yes</td>\n",
              "      <td>southwest</td>\n",
              "      <td>16884.92</td>\n",
              "    </tr>\n",
              "    <tr>\n",
              "      <th>1</th>\n",
              "      <td>18</td>\n",
              "      <td>male</td>\n",
              "      <td>33.8</td>\n",
              "      <td>1</td>\n",
              "      <td>no</td>\n",
              "      <td>southeast</td>\n",
              "      <td>1725.55</td>\n",
              "    </tr>\n",
              "    <tr>\n",
              "      <th>2</th>\n",
              "      <td>28</td>\n",
              "      <td>male</td>\n",
              "      <td>33.0</td>\n",
              "      <td>3</td>\n",
              "      <td>no</td>\n",
              "      <td>southeast</td>\n",
              "      <td>4449.46</td>\n",
              "    </tr>\n",
              "    <tr>\n",
              "      <th>3</th>\n",
              "      <td>33</td>\n",
              "      <td>male</td>\n",
              "      <td>22.7</td>\n",
              "      <td>0</td>\n",
              "      <td>no</td>\n",
              "      <td>northwest</td>\n",
              "      <td>21984.47</td>\n",
              "    </tr>\n",
              "    <tr>\n",
              "      <th>4</th>\n",
              "      <td>32</td>\n",
              "      <td>male</td>\n",
              "      <td>28.9</td>\n",
              "      <td>0</td>\n",
              "      <td>no</td>\n",
              "      <td>northwest</td>\n",
              "      <td>3866.86</td>\n",
              "    </tr>\n",
              "  </tbody>\n",
              "</table>\n",
              "</div>\n",
              "    <div class=\"colab-df-buttons\">\n",
              "\n",
              "  <div class=\"colab-df-container\">\n",
              "    <button class=\"colab-df-convert\" onclick=\"convertToInteractive('df-36bdbadc-38fa-4f59-95e3-bd75156dc5cd')\"\n",
              "            title=\"Convert this dataframe to an interactive table.\"\n",
              "            style=\"display:none;\">\n",
              "\n",
              "  <svg xmlns=\"http://www.w3.org/2000/svg\" height=\"24px\" viewBox=\"0 -960 960 960\">\n",
              "    <path d=\"M120-120v-720h720v720H120Zm60-500h600v-160H180v160Zm220 220h160v-160H400v160Zm0 220h160v-160H400v160ZM180-400h160v-160H180v160Zm440 0h160v-160H620v160ZM180-180h160v-160H180v160Zm440 0h160v-160H620v160Z\"/>\n",
              "  </svg>\n",
              "    </button>\n",
              "\n",
              "  <style>\n",
              "    .colab-df-container {\n",
              "      display:flex;\n",
              "      gap: 12px;\n",
              "    }\n",
              "\n",
              "    .colab-df-convert {\n",
              "      background-color: #E8F0FE;\n",
              "      border: none;\n",
              "      border-radius: 50%;\n",
              "      cursor: pointer;\n",
              "      display: none;\n",
              "      fill: #1967D2;\n",
              "      height: 32px;\n",
              "      padding: 0 0 0 0;\n",
              "      width: 32px;\n",
              "    }\n",
              "\n",
              "    .colab-df-convert:hover {\n",
              "      background-color: #E2EBFA;\n",
              "      box-shadow: 0px 1px 2px rgba(60, 64, 67, 0.3), 0px 1px 3px 1px rgba(60, 64, 67, 0.15);\n",
              "      fill: #174EA6;\n",
              "    }\n",
              "\n",
              "    .colab-df-buttons div {\n",
              "      margin-bottom: 4px;\n",
              "    }\n",
              "\n",
              "    [theme=dark] .colab-df-convert {\n",
              "      background-color: #3B4455;\n",
              "      fill: #D2E3FC;\n",
              "    }\n",
              "\n",
              "    [theme=dark] .colab-df-convert:hover {\n",
              "      background-color: #434B5C;\n",
              "      box-shadow: 0px 1px 3px 1px rgba(0, 0, 0, 0.15);\n",
              "      filter: drop-shadow(0px 1px 2px rgba(0, 0, 0, 0.3));\n",
              "      fill: #FFFFFF;\n",
              "    }\n",
              "  </style>\n",
              "\n",
              "    <script>\n",
              "      const buttonEl =\n",
              "        document.querySelector('#df-36bdbadc-38fa-4f59-95e3-bd75156dc5cd button.colab-df-convert');\n",
              "      buttonEl.style.display =\n",
              "        google.colab.kernel.accessAllowed ? 'block' : 'none';\n",
              "\n",
              "      async function convertToInteractive(key) {\n",
              "        const element = document.querySelector('#df-36bdbadc-38fa-4f59-95e3-bd75156dc5cd');\n",
              "        const dataTable =\n",
              "          await google.colab.kernel.invokeFunction('convertToInteractive',\n",
              "                                                    [key], {});\n",
              "        if (!dataTable) return;\n",
              "\n",
              "        const docLinkHtml = 'Like what you see? Visit the ' +\n",
              "          '<a target=\"_blank\" href=https://colab.research.google.com/notebooks/data_table.ipynb>data table notebook</a>'\n",
              "          + ' to learn more about interactive tables.';\n",
              "        element.innerHTML = '';\n",
              "        dataTable['output_type'] = 'display_data';\n",
              "        await google.colab.output.renderOutput(dataTable, element);\n",
              "        const docLink = document.createElement('div');\n",
              "        docLink.innerHTML = docLinkHtml;\n",
              "        element.appendChild(docLink);\n",
              "      }\n",
              "    </script>\n",
              "  </div>\n",
              "\n",
              "\n",
              "<div id=\"df-32f2cc8a-56aa-47ef-ab52-c2b137c38fe8\">\n",
              "  <button class=\"colab-df-quickchart\" onclick=\"quickchart('df-32f2cc8a-56aa-47ef-ab52-c2b137c38fe8')\"\n",
              "            title=\"Suggest charts\"\n",
              "            style=\"display:none;\">\n",
              "\n",
              "<svg xmlns=\"http://www.w3.org/2000/svg\" height=\"24px\"viewBox=\"0 0 24 24\"\n",
              "     width=\"24px\">\n",
              "    <g>\n",
              "        <path d=\"M19 3H5c-1.1 0-2 .9-2 2v14c0 1.1.9 2 2 2h14c1.1 0 2-.9 2-2V5c0-1.1-.9-2-2-2zM9 17H7v-7h2v7zm4 0h-2V7h2v10zm4 0h-2v-4h2v4z\"/>\n",
              "    </g>\n",
              "</svg>\n",
              "  </button>\n",
              "\n",
              "<style>\n",
              "  .colab-df-quickchart {\n",
              "      --bg-color: #E8F0FE;\n",
              "      --fill-color: #1967D2;\n",
              "      --hover-bg-color: #E2EBFA;\n",
              "      --hover-fill-color: #174EA6;\n",
              "      --disabled-fill-color: #AAA;\n",
              "      --disabled-bg-color: #DDD;\n",
              "  }\n",
              "\n",
              "  [theme=dark] .colab-df-quickchart {\n",
              "      --bg-color: #3B4455;\n",
              "      --fill-color: #D2E3FC;\n",
              "      --hover-bg-color: #434B5C;\n",
              "      --hover-fill-color: #FFFFFF;\n",
              "      --disabled-bg-color: #3B4455;\n",
              "      --disabled-fill-color: #666;\n",
              "  }\n",
              "\n",
              "  .colab-df-quickchart {\n",
              "    background-color: var(--bg-color);\n",
              "    border: none;\n",
              "    border-radius: 50%;\n",
              "    cursor: pointer;\n",
              "    display: none;\n",
              "    fill: var(--fill-color);\n",
              "    height: 32px;\n",
              "    padding: 0;\n",
              "    width: 32px;\n",
              "  }\n",
              "\n",
              "  .colab-df-quickchart:hover {\n",
              "    background-color: var(--hover-bg-color);\n",
              "    box-shadow: 0 1px 2px rgba(60, 64, 67, 0.3), 0 1px 3px 1px rgba(60, 64, 67, 0.15);\n",
              "    fill: var(--button-hover-fill-color);\n",
              "  }\n",
              "\n",
              "  .colab-df-quickchart-complete:disabled,\n",
              "  .colab-df-quickchart-complete:disabled:hover {\n",
              "    background-color: var(--disabled-bg-color);\n",
              "    fill: var(--disabled-fill-color);\n",
              "    box-shadow: none;\n",
              "  }\n",
              "\n",
              "  .colab-df-spinner {\n",
              "    border: 2px solid var(--fill-color);\n",
              "    border-color: transparent;\n",
              "    border-bottom-color: var(--fill-color);\n",
              "    animation:\n",
              "      spin 1s steps(1) infinite;\n",
              "  }\n",
              "\n",
              "  @keyframes spin {\n",
              "    0% {\n",
              "      border-color: transparent;\n",
              "      border-bottom-color: var(--fill-color);\n",
              "      border-left-color: var(--fill-color);\n",
              "    }\n",
              "    20% {\n",
              "      border-color: transparent;\n",
              "      border-left-color: var(--fill-color);\n",
              "      border-top-color: var(--fill-color);\n",
              "    }\n",
              "    30% {\n",
              "      border-color: transparent;\n",
              "      border-left-color: var(--fill-color);\n",
              "      border-top-color: var(--fill-color);\n",
              "      border-right-color: var(--fill-color);\n",
              "    }\n",
              "    40% {\n",
              "      border-color: transparent;\n",
              "      border-right-color: var(--fill-color);\n",
              "      border-top-color: var(--fill-color);\n",
              "    }\n",
              "    60% {\n",
              "      border-color: transparent;\n",
              "      border-right-color: var(--fill-color);\n",
              "    }\n",
              "    80% {\n",
              "      border-color: transparent;\n",
              "      border-right-color: var(--fill-color);\n",
              "      border-bottom-color: var(--fill-color);\n",
              "    }\n",
              "    90% {\n",
              "      border-color: transparent;\n",
              "      border-bottom-color: var(--fill-color);\n",
              "    }\n",
              "  }\n",
              "</style>\n",
              "\n",
              "  <script>\n",
              "    async function quickchart(key) {\n",
              "      const quickchartButtonEl =\n",
              "        document.querySelector('#' + key + ' button');\n",
              "      quickchartButtonEl.disabled = true;  // To prevent multiple clicks.\n",
              "      quickchartButtonEl.classList.add('colab-df-spinner');\n",
              "      try {\n",
              "        const charts = await google.colab.kernel.invokeFunction(\n",
              "            'suggestCharts', [key], {});\n",
              "      } catch (error) {\n",
              "        console.error('Error during call to suggestCharts:', error);\n",
              "      }\n",
              "      quickchartButtonEl.classList.remove('colab-df-spinner');\n",
              "      quickchartButtonEl.classList.add('colab-df-quickchart-complete');\n",
              "    }\n",
              "    (() => {\n",
              "      let quickchartButtonEl =\n",
              "        document.querySelector('#df-32f2cc8a-56aa-47ef-ab52-c2b137c38fe8 button');\n",
              "      quickchartButtonEl.style.display =\n",
              "        google.colab.kernel.accessAllowed ? 'block' : 'none';\n",
              "    })();\n",
              "  </script>\n",
              "</div>\n",
              "\n",
              "    </div>\n",
              "  </div>\n"
            ],
            "application/vnd.google.colaboratory.intrinsic+json": {
              "type": "dataframe",
              "variable_name": "df",
              "summary": "{\n  \"name\": \"df\",\n  \"rows\": 1338,\n  \"fields\": [\n    {\n      \"column\": \"age\",\n      \"properties\": {\n        \"dtype\": \"number\",\n        \"std\": 14,\n        \"min\": 18,\n        \"max\": 64,\n        \"num_unique_values\": 47,\n        \"samples\": [\n          21,\n          45,\n          36\n        ],\n        \"semantic_type\": \"\",\n        \"description\": \"\"\n      }\n    },\n    {\n      \"column\": \"sex\",\n      \"properties\": {\n        \"dtype\": \"category\",\n        \"num_unique_values\": 2,\n        \"samples\": [\n          \"male\",\n          \"female\"\n        ],\n        \"semantic_type\": \"\",\n        \"description\": \"\"\n      }\n    },\n    {\n      \"column\": \"bmi\",\n      \"properties\": {\n        \"dtype\": \"number\",\n        \"std\": 6.098382190003366,\n        \"min\": 16.0,\n        \"max\": 53.1,\n        \"num_unique_values\": 275,\n        \"samples\": [\n          28.6,\n          20.9\n        ],\n        \"semantic_type\": \"\",\n        \"description\": \"\"\n      }\n    },\n    {\n      \"column\": \"children\",\n      \"properties\": {\n        \"dtype\": \"number\",\n        \"std\": 1,\n        \"min\": 0,\n        \"max\": 5,\n        \"num_unique_values\": 6,\n        \"samples\": [\n          0,\n          1\n        ],\n        \"semantic_type\": \"\",\n        \"description\": \"\"\n      }\n    },\n    {\n      \"column\": \"smoker\",\n      \"properties\": {\n        \"dtype\": \"category\",\n        \"num_unique_values\": 2,\n        \"samples\": [\n          \"no\",\n          \"yes\"\n        ],\n        \"semantic_type\": \"\",\n        \"description\": \"\"\n      }\n    },\n    {\n      \"column\": \"region\",\n      \"properties\": {\n        \"dtype\": \"category\",\n        \"num_unique_values\": 4,\n        \"samples\": [\n          \"southeast\",\n          \"northeast\"\n        ],\n        \"semantic_type\": \"\",\n        \"description\": \"\"\n      }\n    },\n    {\n      \"column\": \"expenses\",\n      \"properties\": {\n        \"dtype\": \"number\",\n        \"std\": 12110.011239706457,\n        \"min\": 1121.87,\n        \"max\": 63770.43,\n        \"num_unique_values\": 1337,\n        \"samples\": [\n          8688.86,\n          5708.87\n        ],\n        \"semantic_type\": \"\",\n        \"description\": \"\"\n      }\n    }\n  ]\n}"
            }
          },
          "metadata": {},
          "execution_count": 4
        }
      ]
    },
    {
      "cell_type": "code",
      "source": [
        "smoker = df['smoker']\n"
      ],
      "metadata": {
        "colab": {
          "base_uri": "https://localhost:8080/"
        },
        "id": "oToW3xhIO5Zq",
        "outputId": "13e38f1e-e9ba-4767-8563-0924ed746d36"
      },
      "execution_count": null,
      "outputs": [
        {
          "output_type": "stream",
          "name": "stdout",
          "text": [
            "0       yes\n",
            "1        no\n",
            "2        no\n",
            "3        no\n",
            "4        no\n",
            "       ... \n",
            "1333     no\n",
            "1334     no\n",
            "1335     no\n",
            "1336     no\n",
            "1337    yes\n",
            "Name: smoker, Length: 1338, dtype: object\n"
          ]
        }
      ]
    },
    {
      "cell_type": "code",
      "source": [
        "yes_count = smoker[smoker == 'yes'].count()\n",
        "no_count = smoker[smoker == 'no'].count()\n",
        "\n",
        "print(\"Number of 'yes' in smoker:\", yes_count)\n",
        "print(\"Number of 'no' in smoker:\", no_count)\n"
      ],
      "metadata": {
        "colab": {
          "base_uri": "https://localhost:8080/"
        },
        "id": "0hRv1qAAT1BN",
        "outputId": "19d1be3c-9b7b-4f74-c762-5325c1c56f0f"
      },
      "execution_count": null,
      "outputs": [
        {
          "output_type": "stream",
          "name": "stdout",
          "text": [
            "Number of 'yes' in smoker: 274\n",
            "Number of 'no' in smoker: 1064\n"
          ]
        }
      ]
    },
    {
      "cell_type": "code",
      "source": [
        "probability_yes = yes_count / (yes_count + no_count)\n",
        "print(\"Probability of 'yes' in smoker:\", probability_yes)\n"
      ],
      "metadata": {
        "colab": {
          "base_uri": "https://localhost:8080/"
        },
        "id": "4JKzTpSTT-VR",
        "outputId": "1ebc3e7d-a422-4950-97ab-f2d3a1ebbe6f"
      },
      "execution_count": null,
      "outputs": [
        {
          "output_type": "stream",
          "name": "stdout",
          "text": [
            "Probability of 'yes' in smoker: 0.20478325859491778\n"
          ]
        }
      ]
    },
    {
      "cell_type": "code",
      "source": [
        "from scipy.stats import binom\n",
        "\n",
        "n = 10\n",
        "p = 0.20478325859491778\n",
        "k = 4\n",
        "\n",
        "cumulative_prob = binom.cdf(k - 1, n, p)\n",
        "from scipy.stats import binom\n",
        "\n",
        "n = 10\n",
        "p = 0.20\n",
        "k = 4\n",
        "\n",
        "cumulative_prob = binom.cdf(k - 1, n, p)\n",
        "\n",
        "prob_at_least_4 = 1 - cumulative_prob\n",
        "print(f\"Probability of at least 4 smokers in a sample of 10: {prob_at_least_4:.4f}\")"
      ],
      "metadata": {
        "colab": {
          "base_uri": "https://localhost:8080/"
        },
        "id": "wRkz0Y0hSqC0",
        "outputId": "9b846707-d98b-4538-b289-bd7bd048ffec"
      },
      "execution_count": null,
      "outputs": [
        {
          "output_type": "stream",
          "name": "stdout",
          "text": [
            "Probability of at least 4 smokers in a sample of 10: 0.1209\n"
          ]
        }
      ]
    },
    {
      "cell_type": "code",
      "source": [
        "import matplotlib.pyplot as plt\n",
        "import numpy as np\n",
        "\n",
        "# Number of smokers (0 to 10)\n",
        "x = np.arange(0, n + 1)\n",
        "# Binomial PMF\n",
        "pmf = binom.pmf(x, n, p)\n",
        "\n",
        "plt.bar(x, pmf, color='skyblue')\n",
        "plt.xlabel('Number of Smokers')\n",
        "plt.ylabel('Probability')\n",
        "plt.title('Binomial Distribution: n=10, p=0.20478325859491778')\n",
        "plt.xticks(x)\n",
        "plt.grid(axis='y')\n",
        "plt.show()"
      ],
      "metadata": {
        "colab": {
          "base_uri": "https://localhost:8080/",
          "height": 472
        },
        "id": "UvrzTW9qSv3K",
        "outputId": "b5107442-b77b-4387-a4b3-0f385e8721b1"
      },
      "execution_count": null,
      "outputs": [
        {
          "output_type": "display_data",
          "data": {
            "text/plain": [
              "<Figure size 640x480 with 1 Axes>"
            ],
            "image/png": "[encoded data removed]"
          },
          "metadata": {}
        }
      ]
    },
    {
      "cell_type": "code",
      "source": [
        "expenses = df['expenses']\n",
        "expenses"
      ],
      "metadata": {
        "colab": {
          "base_uri": "https://localhost:8080/",
          "height": 458
        },
        "id": "VNY-dTIxTxJz",
        "outputId": "db09e614-703b-4465-fc17-fb55f4c5fb88"
      },
      "execution_count": null,
      "outputs": [
        {
          "output_type": "execute_result",
          "data": {
            "text/plain": [
              "0       16884.92\n",
              "1        1725.55\n",
              "2        4449.46\n",
              "3       21984.47\n",
              "4        3866.86\n",
              "          ...   \n",
              "1333    10600.55\n",
              "1334     2205.98\n",
              "1335     1629.83\n",
              "1336     2007.95\n",
              "1337    29141.36\n",
              "Name: expenses, Length: 1338, dtype: float64"
            ],
            "text/html": [
              "<div>\n",
              "<style scoped>\n",
              "    .dataframe tbody tr th:only-of-type {\n",
              "        vertical-align: middle;\n",
              "    }\n",
              "\n",
              "    .dataframe tbody tr th {\n",
              "        vertical-align: top;\n",
              "    }\n",
              "\n",
              "    .dataframe thead th {\n",
              "        text-align: right;\n",
              "    }\n",
              "</style>\n",
              "<table border=\"1\" class=\"dataframe\">\n",
              "  <thead>\n",
              "    <tr style=\"text-align: right;\">\n",
              "      <th></th>\n",
              "      <th>expenses</th>\n",
              "    </tr>\n",
              "  </thead>\n",
              "  <tbody>\n",
              "    <tr>\n",
              "      <th>0</th>\n",
              "      <td>16884.92</td>\n",
              "    </tr>\n",
              "    <tr>\n",
              "      <th>1</th>\n",
              "      <td>1725.55</td>\n",
              "    </tr>\n",
              "    <tr>\n",
              "      <th>2</th>\n",
              "      <td>4449.46</td>\n",
              "    </tr>\n",
              "    <tr>\n",
              "      <th>3</th>\n",
              "      <td>21984.47</td>\n",
              "    </tr>\n",
              "    <tr>\n",
              "      <th>4</th>\n",
              "      <td>3866.86</td>\n",
              "    </tr>\n",
              "    <tr>\n",
              "      <th>...</th>\n",
              "      <td>...</td>\n",
              "    </tr>\n",
              "    <tr>\n",
              "      <th>1333</th>\n",
              "      <td>10600.55</td>\n",
              "    </tr>\n",
              "    <tr>\n",
              "      <th>1334</th>\n",
              "      <td>2205.98</td>\n",
              "    </tr>\n",
              "    <tr>\n",
              "      <th>1335</th>\n",
              "      <td>1629.83</td>\n",
              "    </tr>\n",
              "    <tr>\n",
              "      <th>1336</th>\n",
              "      <td>2007.95</td>\n",
              "    </tr>\n",
              "    <tr>\n",
              "      <th>1337</th>\n",
              "      <td>29141.36</td>\n",
              "    </tr>\n",
              "  </tbody>\n",
              "</table>\n",
              "<p>1338 rows × 1 columns</p>\n",
              "</div><br><label><b>dtype:</b> float64</label>"
            ]
          },
          "metadata": {},
          "execution_count": 19
        }
      ]
    },
    {
      "cell_type": "code",
      "source": [
        "probability_expenses_more_than_20000 = (expenses > 20000).mean()\n",
        "\n",
        "print(f\"Probability of expenses being more than 20000: {probability_expenses_more_than_20000}\")\n"
      ],
      "metadata": {
        "colab": {
          "base_uri": "https://localhost:8080/"
        },
        "id": "6hRO0eihUwxN",
        "outputId": "ed499145-9a6c-40b7-e6ab-1c9b3e935c63"
      },
      "execution_count": null,
      "outputs": [
        {
          "output_type": "stream",
          "name": "stdout",
          "text": [
            "Probability of expenses being more than 20000: 0.2040358744394619\n"
          ]
        }
      ]
    },
    {
      "cell_type": "code",
      "source": [
        "n = 15\n",
        "p = 0.2040358744394619\n",
        "k = 5\n",
        "\n",
        "prob_exactly_5 = binom.pmf(k, n, p)\n",
        "print(f\"Probability of exactly 5 individuals with charges above $20,000: {prob_exactly_5:.4f}\")"
      ],
      "metadata": {
        "colab": {
          "base_uri": "https://localhost:8080/"
        },
        "id": "DZcqH9BBU5KU",
        "outputId": "ab3d0661-3809-4f59-ff52-a72c24368370"
      },
      "execution_count": null,
      "outputs": [
        {
          "output_type": "stream",
          "name": "stdout",
          "text": [
            "Probability of exactly 5 individuals with charges above $20,000: 0.1084\n"
          ]
        }
      ]
    },
    {
      "cell_type": "code",
      "source": [
        "k = 5\n",
        "\n",
        "cumulative_prob_at_most_5 = binom.cdf(k, n, p)\n",
        "print(f\"Cumulative probability of at most 5 individuals with charges above $20,000: {cumulative_prob_at_most_5:.4f}\")"
      ],
      "metadata": {
        "colab": {
          "base_uri": "https://localhost:8080/"
        },
        "id": "Yv5KAiPKU-Cx",
        "outputId": "f317c218-d673-47b1-de54-8a8e5ba24812"
      },
      "execution_count": null,
      "outputs": [
        {
          "output_type": "stream",
          "name": "stdout",
          "text": [
            "Cumulative probability of at most 5 individuals with charges above $20,000: 0.9336\n"
          ]
        }
      ]
    },
    {
      "cell_type": "code",
      "source": [
        "# Binomial CDF\n",
        "cdf = binom.cdf(x, n, p)\n",
        "\n",
        "plt.step(x, cdf, where='mid', color='blue')\n",
        "plt.xlabel('Number of Individuals with Charges Above $20,000')\n",
        "plt.ylabel('Cumulative Probability')\n",
        "plt.title('Cumulative Distribution Function: n=15, p=0.2040358744394619')\n",
        "plt.xticks(x)\n",
        "plt.grid()\n",
        "plt.show()"
      ],
      "metadata": {
        "colab": {
          "base_uri": "https://localhost:8080/",
          "height": 472
        },
        "id": "DgFPg0nUVEtC",
        "outputId": "5646d8fd-a7b2-4cda-940c-ea61bd2eb333"
      },
      "execution_count": null,
      "outputs": [
        {
          "output_type": "display_data",
          "data": {
            "text/plain": [
              "<Figure size 640x480 with 1 Axes>"
            ],
            "image/png": "[encoded data removed]"
          },
          "metadata": {}
        }
      ]
    },
    {
      "cell_type": "code",
      "source": [
        "region = df['region']\n",
        "region"
      ],
      "metadata": {
        "colab": {
          "base_uri": "https://localhost:8080/",
          "height": 458
        },
        "id": "1zE6BOQAVLb8",
        "outputId": "fac9b5b8-b022-4744-dc3a-9f7706a649bf"
      },
      "execution_count": null,
      "outputs": [
        {
          "output_type": "execute_result",
          "data": {
            "text/plain": [
              "0       southwest\n",
              "1       southeast\n",
              "2       southeast\n",
              "3       northwest\n",
              "4       northwest\n",
              "          ...    \n",
              "1333    northwest\n",
              "1334    northeast\n",
              "1335    southeast\n",
              "1336    southwest\n",
              "1337    northwest\n",
              "Name: region, Length: 1338, dtype: object"
            ],
            "text/html": [
              "<div>\n",
              "<style scoped>\n",
              "    .dataframe tbody tr th:only-of-type {\n",
              "        vertical-align: middle;\n",
              "    }\n",
              "\n",
              "    .dataframe tbody tr th {\n",
              "        vertical-align: top;\n",
              "    }\n",
              "\n",
              "    .dataframe thead th {\n",
              "        text-align: right;\n",
              "    }\n",
              "</style>\n",
              "<table border=\"1\" class=\"dataframe\">\n",
              "  <thead>\n",
              "    <tr style=\"text-align: right;\">\n",
              "      <th></th>\n",
              "      <th>region</th>\n",
              "    </tr>\n",
              "  </thead>\n",
              "  <tbody>\n",
              "    <tr>\n",
              "      <th>0</th>\n",
              "      <td>southwest</td>\n",
              "    </tr>\n",
              "    <tr>\n",
              "      <th>1</th>\n",
              "      <td>southeast</td>\n",
              "    </tr>\n",
              "    <tr>\n",
              "      <th>2</th>\n",
              "      <td>southeast</td>\n",
              "    </tr>\n",
              "    <tr>\n",
              "      <th>3</th>\n",
              "      <td>northwest</td>\n",
              "    </tr>\n",
              "    <tr>\n",
              "      <th>4</th>\n",
              "      <td>northwest</td>\n",
              "    </tr>\n",
              "    <tr>\n",
              "      <th>...</th>\n",
              "      <td>...</td>\n",
              "    </tr>\n",
              "    <tr>\n",
              "      <th>1333</th>\n",
              "      <td>northwest</td>\n",
              "    </tr>\n",
              "    <tr>\n",
              "      <th>1334</th>\n",
              "      <td>northeast</td>\n",
              "    </tr>\n",
              "    <tr>\n",
              "      <th>1335</th>\n",
              "      <td>southeast</td>\n",
              "    </tr>\n",
              "    <tr>\n",
              "      <th>1336</th>\n",
              "      <td>southwest</td>\n",
              "    </tr>\n",
              "    <tr>\n",
              "      <th>1337</th>\n",
              "      <td>northwest</td>\n",
              "    </tr>\n",
              "  </tbody>\n",
              "</table>\n",
              "<p>1338 rows × 1 columns</p>\n",
              "</div><br><label><b>dtype:</b> object</label>"
            ]
          },
          "metadata": {},
          "execution_count": 25
        }
      ]
    },
    {
      "cell_type": "code",
      "source": [
        "southwest_count = region[region == 'southwest'].count()\n",
        "southeast_count = region[region == 'southeast'].count()\n",
        "northwest_count = region[region == 'northwest'].count()\n",
        "northeast_count = region[region == 'northeast'].count()\n",
        "\n",
        "total_count = len(region)\n",
        "\n",
        "southwest_probability = southwest_count / total_count\n",
        "southeast_probability = southeast_count / total_count\n",
        "northwest_probability = northwest_count / total_count\n",
        "northeast_probability = northeast_count / total_count\n",
        "\n",
        "print(f\"Probability of Southwest: {southwest_probability:.4f}\")\n",
        "print(f\"Probability of Southeast: {southeast_probability:.4f}\")\n",
        "print(f\"Probability of Northwest: {northwest_probability:.4f}\")\n",
        "print(f\"Probability of Northeast: {northeast_probability:.4f}\")\n"
      ],
      "metadata": {
        "colab": {
          "base_uri": "https://localhost:8080/"
        },
        "id": "odmP2rXZVT8T",
        "outputId": "0f93eb58-d8a2-497a-f03d-af7efc1ecd42"
      },
      "execution_count": null,
      "outputs": [
        {
          "output_type": "stream",
          "name": "stdout",
          "text": [
            "Probability of Southwest: 0.2429\n",
            "Probability of Southeast: 0.2720\n",
            "Probability of Northwest: 0.2429\n",
            "Probability of Northeast: 0.2422\n"
          ]
        }
      ]
    },
    {
      "cell_type": "code",
      "source": [
        "import numpy as np\n",
        "\n",
        "n = 50\n",
        "num_samples = 1000\n",
        "\n",
        "# Simulate for each region\n",
        "np.random.seed(42)  # For reproducibility\n",
        "smokers_SW = np.random.binomial(n, 0.2429, num_samples)\n",
        "smokers_SE = np.random.binomial(n, 0.2720, num_samples)\n",
        "smokers_NW = np.random.binomial(n, 0.2429, num_samples)\n",
        "smokers_NE = np.random.binomial(n, 0.2422, num_samples)"
      ],
      "metadata": {
        "id": "oTdTdTlHV8J-"
      },
      "execution_count": null,
      "outputs": []
    },
    {
      "cell_type": "code",
      "source": [
        "import matplotlib.pyplot as plt\n",
        "\n",
        "regions = ['Southwest', 'Southeast', 'Northwest', 'Northeast']\n",
        "data = [smokers_SW, smokers_SE, smokers_NW, smokers_NE]\n",
        "\n",
        "plt.figure(figsize=(12, 8))\n",
        "plt.boxplot(data, labels=regions)\n",
        "plt.ylabel('Number of Smokers in Sample of 50')\n",
        "plt.title('Distribution of Smokers per Region')\n",
        "plt.grid()\n",
        "plt.show()"
      ],
      "metadata": {
        "colab": {
          "base_uri": "https://localhost:8080/",
          "height": 754
        },
        "id": "zS3lbCBoWIVl",
        "outputId": "d40e189c-48a5-4765-9e85-cab88bc5ec31"
      },
      "execution_count": null,
      "outputs": [
        {
          "output_type": "stream",
          "name": "stderr",
          "text": [
            "<ipython-input-28-499ea20ffbd9>:7: MatplotlibDeprecationWarning: The 'labels' parameter of boxplot() has been renamed 'tick_labels' since Matplotlib 3.9; support for the old name will be dropped in 3.11.\n",
            "  plt.boxplot(data, labels=regions)\n"
          ]
        },
        {
          "output_type": "display_data",
          "data": {
            "text/plain": [
              "<Figure size 1200x800 with 1 Axes>"
            ],
            "image/png": "[encoded data removed]"
          },
          "metadata": {}
        }
      ]
    },
    {
      "cell_type": "code",
      "source": [
        "expected_values = {\n",
        "    'Southwest': n * 0.2429,\n",
        "    'Southeast': n * 0.2720,\n",
        "    'Northwest': n * 0.2429,\n",
        "    'Northeast': n * 0.2422\n",
        "}\n",
        "\n",
        "simulated_means = {\n",
        "    'Southwest': np.mean(smokers_SW),\n",
        "    'Southeast': np.mean(smokers_SE),\n",
        "    'Northwest': np.mean(smokers_NW),\n",
        "    'Northeast': np.mean(smokers_NE)\n",
        "}\n",
        "\n",
        "print(\"Expected vs Simulated Mean Number of Smokers in a Sample of 50:\")\n",
        "for region in regions:\n",
        "    print(f\"{region}: Expected = {expected_values[region]:.2f}, Simulated Mean = {simulated_means[region]:.2f}\")"
      ],
      "metadata": {
        "colab": {
          "base_uri": "https://localhost:8080/"
        },
        "id": "Igvw8roKWLTk",
        "outputId": "fe98455d-6c80-43ee-dc4a-d1893ab19122"
      },
      "execution_count": null,
      "outputs": [
        {
          "output_type": "stream",
          "name": "stdout",
          "text": [
            "Expected vs Simulated Mean Number of Smokers in a Sample of 50:\n",
            "Southwest: Expected = 12.14, Simulated Mean = 12.04\n",
            "Southeast: Expected = 13.60, Simulated Mean = 13.67\n",
            "Northwest: Expected = 12.14, Simulated Mean = 12.15\n",
            "Northeast: Expected = 12.11, Simulated Mean = 12.01\n"
          ]
        }
      ]
    },
    {
      "cell_type": "code",
      "source": [
        "# Calculate the 90th percentile of charges\n",
        "threshold_charge = df['expenses'].quantile(0.90)\n",
        "print(f\"High-risk threshold charge: ${threshold_charge:.2f}\")"
      ],
      "metadata": {
        "colab": {
          "base_uri": "https://localhost:8080/"
        },
        "id": "6RQsVMhjWQgN",
        "outputId": "39a9db86-946d-4335-820e-5e0e0eab104f"
      },
      "execution_count": null,
      "outputs": [
        {
          "output_type": "stream",
          "name": "stdout",
          "text": [
            "High-risk threshold charge: $34831.72\n"
          ]
        }
      ]
    },
    {
      "cell_type": "code",
      "source": [
        "from scipy.stats import binom\n",
        "\n",
        "n = 30\n",
        "p = 0.10\n",
        "k = 8\n",
        "\n",
        "prob_8_high_risk = binom.pmf(k, n, p)\n",
        "print(f\"Probability of selecting exactly 8 high-risk individuals: {prob_8_high_risk:.6f}\")"
      ],
      "metadata": {
        "colab": {
          "base_uri": "https://localhost:8080/"
        },
        "id": "nbpol4-XZ7Z9",
        "outputId": "2102c755-6a01-407c-cc84-34174e9174db"
      },
      "execution_count": null,
      "outputs": [
        {
          "output_type": "stream",
          "name": "stdout",
          "text": [
            "Probability of selecting exactly 8 high-risk individuals: 0.005764\n"
          ]
        }
      ]
    },
    {
      "cell_type": "code",
      "source": [
        "import matplotlib.pyplot as plt\n",
        "import numpy as np\n",
        "\n",
        "x = np.arange(0, n + 1)\n",
        "probs = binom.pmf(x, n, p)\n",
        "\n",
        "plt.bar(x, probs, color='skyblue')\n",
        "plt.xlabel('Number of High-Risk Individuals')\n",
        "plt.ylabel('Probability')\n",
        "plt.title('PMF of High-Risk Policyholders (n=30, p=0.10)')\n",
        "plt.xticks(range(0, n+1, 2))\n",
        "plt.grid(axis='y', linestyle='--')\n",
        "plt.show()"
      ],
      "metadata": {
        "colab": {
          "base_uri": "https://localhost:8080/",
          "height": 472
        },
        "id": "VvGGrqeaaIgv",
        "outputId": "49552bda-c71b-4eb0-cbaf-fb0f7a5f54a6"
      },
      "execution_count": null,
      "outputs": [
        {
          "output_type": "display_data",
          "data": {
            "text/plain": [
              "<Figure size 640x480 with 1 Axes>"
            ],
            "image/png": "[encoded data removed]"
          },
          "metadata": {}
        }
      ]
    },
    {
      "cell_type": "code",
      "source": [
        "n = 12\n",
        "p = 0.40\n",
        "k = 4\n",
        "\n",
        "\n",
        "prob_at_most_4 = binom.cdf(k, n, p)\n",
        "\n",
        "\n",
        "prob_at_least_5 = 1 - prob_at_most_4\n",
        "print(f\"Probability of at least 5 individuals having more than 3 children: {prob_at_least_5:.6f}\")"
      ],
      "metadata": {
        "colab": {
          "base_uri": "https://localhost:8080/"
        },
        "id": "X89o5zPtaNfz",
        "outputId": "6d843bf8-b92d-401e-c614-49f7b63ad5a6"
      },
      "execution_count": null,
      "outputs": [
        {
          "output_type": "stream",
          "name": "stdout",
          "text": [
            "Probability of at least 5 individuals having more than 3 children: 0.561822\n"
          ]
        }
      ]
    },
    {
      "cell_type": "code",
      "source": [
        "prob_manual = sum(binom.pmf(k, n, p) for k in range(5, 13))\n",
        "print(f\"Manual calculation of probability: {prob_manual:.6f}\")"
      ],
      "metadata": {
        "colab": {
          "base_uri": "https://localhost:8080/"
        },
        "id": "tyf-O69faQox",
        "outputId": "87c4bb52-a322-4369-8ffc-666de6cdfcee"
      },
      "execution_count": null,
      "outputs": [
        {
          "output_type": "stream",
          "name": "stdout",
          "text": [
            "Manual calculation of probability: 0.561822\n"
          ]
        }
      ]
    },
    {
      "cell_type": "code",
      "source": [
        "np.random.seed(42)\n",
        "samples = binom.rvs(n, p, size=1000)\n",
        "\n",
        "# Histogram visualization\n",
        "plt.hist(samples, bins=range(n+2), alpha=0.7, color='blue', edgecolor='black', density=True)\n",
        "plt.xlabel('Number of Individuals with More than 3 Children')\n",
        "plt.ylabel('Frequency')\n",
        "plt.title('Histogram of Simulated Samples (n=12, p=0.40)')\n",
        "plt.grid(axis='y', linestyle='--')\n",
        "plt.show()"
      ],
      "metadata": {
        "colab": {
          "base_uri": "https://localhost:8080/",
          "height": 472
        },
        "id": "VBXB7LExaUmW",
        "outputId": "9806a13b-6067-4523-ae1d-b7b415f6f2a4"
      },
      "execution_count": null,
      "outputs": [
        {
          "output_type": "display_data",
          "data": {
            "text/plain": [
              "<Figure size 640x480 with 1 Axes>"
            ],
            "image/png": "[encoded data removed]"
          },
          "metadata": {}
        }
      ]
    },
    {
      "cell_type": "code",
      "source": [
        "simulated_mean = np.mean(samples)\n",
        "simulated_variance = np.var(samples)\n",
        "\n",
        "expected_mean = n * p\n",
        "expected_variance = n * p * (1 - p)\n",
        "\n",
        "print(f\"Expected Mean: {expected_mean:.2f}, Simulated Mean: {simulated_mean:.2f}\")\n",
        "print(f\"Expected Variance: {expected_variance:.2f}, Simulated Variance: {simulated_variance:.2f}\")"
      ],
      "metadata": {
        "colab": {
          "base_uri": "https://localhost:8080/"
        },
        "id": "SnTTqIvGaVyx",
        "outputId": "9d6f7e55-10d8-4bb5-c915-b68264816eed"
      },
      "execution_count": null,
      "outputs": [
        {
          "output_type": "stream",
          "name": "stdout",
          "text": [
            "Expected Mean: 4.80, Simulated Mean: 4.75\n",
            "Expected Variance: 2.88, Simulated Variance: 2.87\n"
          ]
        }
      ]
    },
    {
      "cell_type": "code",
      "source": [],
      "metadata": {
        "id": "6Qulbs_DawMp"
      },
      "execution_count": null,
      "outputs": []
    }
  ]
}